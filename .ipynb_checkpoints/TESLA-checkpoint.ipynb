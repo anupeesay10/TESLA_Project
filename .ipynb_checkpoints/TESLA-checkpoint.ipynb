{
 "cells": [
  {
   "cell_type": "markdown",
   "id": "95b51d44-d77e-4124-b1a7-4947e5d13d78",
   "metadata": {},
   "source": [
    "### Key Insights from our Tesla Stock Dashboard 📈🚘"
   ]
  },
  {
   "cell_type": "markdown",
   "id": "0456e90c-a1fb-433f-924d-212ead8043b7",
   "metadata": {},
   "source": [
    "<img src=\"Tesla GIF.gif\" width=\"400\">"
   ]
  },
  {
   "cell_type": "markdown",
   "id": "80f5d7c0-6ae8-490b-9c47-7bc4f5cbc811",
   "metadata": {},
   "source": [
    "### Let's first look at the All Years Section:"
   ]
  },
  {
   "cell_type": "markdown",
   "id": "3a001645-2f16-42a4-b5bd-950809e84880",
   "metadata": {},
   "source": [
    "Candlestick Chart:\n",
    "- Stock prices started to increase starting at year 2020\n",
    "- After 2020, stock prices started to fluctuate rather than stay relatively even before 2020\n"
   ]
  },
  {
   "cell_type": "markdown",
   "id": "cfa82c4b-9569-42e2-b79e-bc671dc34c4f",
   "metadata": {},
   "source": [
    "Volume Chart:\n",
    "- Trading volume started to pick up drastically starting at year 2013, but relatively no drastic increase in price at this time as seen in the candlestick chart. \n",
    "- Trading volume then peaked at year 2020 with over 225 million trades, with a definite increase in price at this time as seen in the candlestick chart.\n",
    "- The third peak happens at 2023, with a decline in stock price at this time. \n",
    "- **Summary:** The first peak hints at an initial \"hype\" around Tesla as the stock price did not go up with the increase in trades. The second peak showed the time where Tesla did become a worthy invenstment where many people participated. The most recent peak shows Tesla is looking to decline and investors mostly participiated in selling."
   ]
  },
  {
   "cell_type": "markdown",
   "id": "cec00ce3-916a-447a-a60a-ca3e664e4d82",
   "metadata": {},
   "source": [
    "Daily Returns Chart:\n",
    "- The max daily return is at 2020, at about +1%\n",
    "- The minimum daily return is at 2022, at about -0.3%\n"
   ]
  },
  {
   "cell_type": "markdown",
   "id": "ff078fca-ef40-453d-8dc7-8c7cd24d8b7d",
   "metadata": {},
   "source": [
    "Drawdown Chart:\n",
    "- Tesla had the worst \"time under water\" period from around November 2021 to December 2024\n",
    "- **Summary:** This record low period under water is also the period in which Tesla had their worst year for daily returns, as well as a large volume of investors selling due to a projected decline in Tesla, which is showcased in the previous three charts"
   ]
  },
  {
   "cell_type": "markdown",
   "id": "c097b8e8-5ed9-4e2f-bc8b-e8b228337880",
   "metadata": {},
   "source": [
    "<img src=\"stock_down.gif\" width=\"400\">"
   ]
  },
  {
   "cell_type": "markdown",
   "id": "714fcbb0-b6a4-499d-859f-4835c97f9998",
   "metadata": {},
   "source": [
    "### Let's see how it has been doing since the \"Under water\" period:\n"
   ]
  },
  {
   "cell_type": "markdown",
   "id": "22f60c51-6868-450d-baa4-4d58ed8b9f4f",
   "metadata": {},
   "source": [
    "2022: \n",
    "- The entire year was \"underwater\"\n",
    "- The stock price oscillated with a downward trend\n",
    "- The trading volume increased and the stock price decreased --> projected decline amongst investors --> more desire to sell\n"
   ]
  },
  {
   "cell_type": "markdown",
   "id": "aefbf5f8-0807-46d5-ace7-30be806b720c",
   "metadata": {},
   "source": [
    "2023: \n",
    "- New peak adjusted close value was reached, breaking the \"underwater\" period of 2022\n",
    "- Trading volume decresed and stock price increased --> projected incline amongst investors --> more desire to buy\n",
    "- Higher positive daily returns"
   ]
  },
  {
   "cell_type": "markdown",
   "id": "1394c886-fdd0-4e13-9f25-9a6406b16490",
   "metadata": {},
   "source": [
    "2024: \n",
    "- Large \"Time underwater\" until July, but afterwards proceeded to have new peak adjusted close values\n",
    "- Trading volume increased and stock price increased --> projected incline amongst investors --> more desire to buy\n",
    "- Very high daily return recorded on October 24th, 2024: about +21.9%"
   ]
  },
  {
   "cell_type": "markdown",
   "id": "89514312-b322-4fe9-9d25-308216b7a91c",
   "metadata": {},
   "source": [
    "2025: \n",
    "- So far, the entire year has been \"time underwater\" with currently a rise in adjusted close price\n",
    "- Very high daily return recorded on April 9th, 2025: about +22.7%\n",
    "- More desire to sell at around April, with currently an increasing demand to buy"
   ]
  },
  {
   "cell_type": "markdown",
   "id": "f177829f-0f3e-4346-bb68-f1d9b006097a",
   "metadata": {},
   "source": [
    "### Given the current trend of leaving this \"time underwater\" period as well as a moderate increase in desire to buy, this year is looking similar to 2024. Assuming all other factors are equal to that of 2024, this year is projected to have an increase in demand to buy."
   ]
  },
  {
   "cell_type": "markdown",
   "id": "e9df9444-5627-4125-8a0c-4f9f46d5fe2e",
   "metadata": {},
   "source": [
    "### So go invest in Tesla "
   ]
  },
  {
   "cell_type": "markdown",
   "id": "782545f8-3b37-4f4a-8f80-26fe58ca8fa0",
   "metadata": {},
   "source": [
    "<img src=\"Elon_red_carpet.gif\" width=\"400\">"
   ]
  },
  {
   "cell_type": "code",
   "execution_count": null,
   "id": "c04e9822-0622-45a5-9cb7-bfd4b306fac5",
   "metadata": {},
   "outputs": [],
   "source": []
  }
 ],
 "metadata": {
  "kernelspec": {
   "display_name": "My Jupyter Environment",
   "language": "python",
   "name": "my_jupyter_env"
  },
  "language_info": {
   "codemirror_mode": {
    "name": "ipython",
    "version": 3
   },
   "file_extension": ".py",
   "mimetype": "text/x-python",
   "name": "python",
   "nbconvert_exporter": "python",
   "pygments_lexer": "ipython3",
   "version": "3.12.11"
  }
 },
 "nbformat": 4,
 "nbformat_minor": 5
}
